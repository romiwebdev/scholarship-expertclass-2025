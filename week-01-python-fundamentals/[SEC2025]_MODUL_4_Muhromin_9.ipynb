{
  "nbformat": 4,
  "nbformat_minor": 0,
  "metadata": {
    "colab": {
      "provenance": []
    },
    "kernelspec": {
      "name": "python3",
      "display_name": "Python 3"
    },
    "language_info": {
      "name": "python"
    }
  },
  "cells": [
    {
      "cell_type": "code",
      "execution_count": null,
      "metadata": {
        "colab": {
          "base_uri": "https://localhost:8080/"
        },
        "id": "zd9xw7R6y9xo",
        "outputId": "2669afc7-d61f-468b-af0d-33440be682f0"
      },
      "outputs": [
        {
          "output_type": "stream",
          "name": "stdout",
          "text": [
            "Selamat datang di permainan Tebak Angka!\n",
            "Tebak angka dari 1 sampai 10. Kamu punya 3 kesempatan.\n",
            "Tebakan ke-1: 2\n",
            "Terlalu kecil!\n",
            "Tebakan ke-2: 5\n",
            "Terlalu besar!\n",
            "Tebakan ke-3: 4\n",
            "🎉 Selamat! Tebakanmu benar.\n",
            "Permainan Selesai\n"
          ]
        }
      ],
      "source": [
        "# 🎯 Mini Project Modul 4: Tebak Angka (Perulangan)\n",
        "# Program meminta pemain menebak angka antara 1 dan 10, dengan 3 kesempatan\n",
        "\n",
        "import random\n",
        "\n",
        "# 1. Angka rahasia ditentukan secara acak\n",
        "angka_rahasia = random.randint(1, 10)\n",
        "\n",
        "# 2. Sambutan awal\n",
        "print(\"Selamat datang di permainan Tebak Angka!\")\n",
        "print(\"Tebak angka dari 1 sampai 10. Kamu punya 3 kesempatan.\")\n",
        "\n",
        "# 3. Pemain menebak maksimal 3 kali\n",
        "for kesempatan in range(1, 4):\n",
        "    try:\n",
        "        tebak = int(input(f\"Tebakan ke-{kesempatan}: \"))\n",
        "\n",
        "        if tebak == angka_rahasia:\n",
        "            print(\"🎉 Selamat! Tebakanmu benar.\")\n",
        "            break\n",
        "        elif tebak < angka_rahasia:\n",
        "            print(\"Terlalu kecil!\")\n",
        "        else:\n",
        "            print(\"Terlalu besar!\")\n",
        "    except ValueError:\n",
        "        print(\"⚠️ Masukkan hanya angka!\")\n",
        "\n",
        "# 4. Jika gagal menebak dalam 3 kali\n",
        "else:\n",
        "    print(f\"❌ Maaf, kamu gagal menebak. Angka rahasianya adalah {angka_rahasia}.\")\n",
        "\n",
        "# 5. Penutup\n",
        "print(\"Permainan Selesai\")\n"
      ]
    },
    {
      "cell_type": "markdown",
      "source": [
        "### 📘 Markdown Penjelasan (Tambahkan di Cell Markdown)\n",
        "\n",
        "## 📝 Penjelasan Program\n",
        "Program ini adalah permainan tebak angka sederhana yang menggunakan:\n",
        "- `random.randint()` untuk menghasilkan angka rahasia antara 1 sampai 10.\n",
        "- `for` loop untuk memberi pemain 3 kesempatan menebak.\n",
        "- `if` dan `else` untuk memberikan respons apakah tebakan terlalu besar atau kecil.\n",
        "- Penanganan `ValueError` jika input bukan angka.\n",
        "\n",
        "---\n",
        "\n",
        "## ✅ Contoh Output:\n",
        "```\n",
        "\n",
        "Selamat datang di permainan Tebak Angka!\n",
        "Tebak angka dari 1 sampai 10. Kamu punya 3 kesempatan.\n",
        "Tebakan ke-1: 3\n",
        "Terlalu kecil!\n",
        "Tebakan ke-2: 9\n",
        "Terlalu besar!\n",
        "Tebakan ke-3: 7\n",
        "🎉 Selamat! Tebakanmu benar.\n",
        "Permainan Selesai\n",
        "\n",
        "```\n",
        "```\n",
        "\n",
        "Atau jika salah semua:\n",
        "❌ Maaf, kamu gagal menebak. Angka rahasianya adalah 6.\n",
        "Permainan Selesai\n",
        "\n",
        "```\n",
        "```\n",
        "\n",
        "Jika input salah:\n",
        "⚠️ Masukkan hanya angka!\n",
        "\n",
        "```\n"
      ],
      "metadata": {
        "id": "2EMfvGhO0wwD"
      }
    },
    {
      "cell_type": "markdown",
      "source": [
        "## Refleksi\n",
        "Saya belajar menggunakan perulangan `for` dan pengkondisian `if-else`.  \n",
        "Tantangan saya adalah memastikan input pemain valid dan membatasi kesempatan tebakan.  \n",
        "Sekarang saya lebih paham cara membuat game sederhana dengan Python.\n"
      ],
      "metadata": {
        "id": "4WnvEpqL1Xjz"
      }
    },
    {
      "cell_type": "markdown",
      "source": [],
      "metadata": {
        "id": "i5ZfRtTh0g6S"
      }
    }
  ]
}