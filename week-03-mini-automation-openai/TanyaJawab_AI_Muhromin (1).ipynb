{
  "nbformat": 4,
  "nbformat_minor": 0,
  "metadata": {
    "colab": {
      "provenance": []
    },
    "kernelspec": {
      "name": "python3",
      "display_name": "Python 3"
    },
    "language_info": {
      "name": "python"
    }
  },
  "cells": [
    {
      "cell_type": "markdown",
      "source": [
        "## Proyek: Aplikasi Tanya Jawab AI  \n",
        "**Nama:** Muhromin  \n",
        "\n",
        "**Kelas:** SEC2025 Kelas 9\n",
        "\n",
        "**Deskripsi Singkat:**  \n",
        "Program ini mengirim pertanyaan ke API Gemini dan mencatat riwayat jawaban ke file. Chatbot ini juga menyimpan riwayat dan menampilkan 3 percakapan terakhir."
      ],
      "metadata": {
        "id": "rBqG3scsbp-f"
      }
    },
    {
      "cell_type": "code",
      "execution_count": null,
      "metadata": {
        "colab": {
          "base_uri": "https://localhost:8080/"
        },
        "id": "cNaaoKutVdsD",
        "outputId": "0d4c85cc-2055-4a77-902b-8c493dc93304"
      },
      "outputs": [
        {
          "output_type": "stream",
          "name": "stdout",
          "text": [
            "Requirement already satisfied: google-generativeai in /usr/local/lib/python3.11/dist-packages (0.8.5)\n",
            "Requirement already satisfied: google-ai-generativelanguage==0.6.15 in /usr/local/lib/python3.11/dist-packages (from google-generativeai) (0.6.15)\n",
            "Requirement already satisfied: google-api-core in /usr/local/lib/python3.11/dist-packages (from google-generativeai) (2.25.1)\n",
            "Requirement already satisfied: google-api-python-client in /usr/local/lib/python3.11/dist-packages (from google-generativeai) (2.174.0)\n",
            "Requirement already satisfied: google-auth>=2.15.0 in /usr/local/lib/python3.11/dist-packages (from google-generativeai) (2.38.0)\n",
            "Requirement already satisfied: protobuf in /usr/local/lib/python3.11/dist-packages (from google-generativeai) (5.29.5)\n",
            "Requirement already satisfied: pydantic in /usr/local/lib/python3.11/dist-packages (from google-generativeai) (2.11.7)\n",
            "Requirement already satisfied: tqdm in /usr/local/lib/python3.11/dist-packages (from google-generativeai) (4.67.1)\n",
            "Requirement already satisfied: typing-extensions in /usr/local/lib/python3.11/dist-packages (from google-generativeai) (4.14.0)\n",
            "Requirement already satisfied: proto-plus<2.0.0dev,>=1.22.3 in /usr/local/lib/python3.11/dist-packages (from google-ai-generativelanguage==0.6.15->google-generativeai) (1.26.1)\n",
            "Requirement already satisfied: googleapis-common-protos<2.0.0,>=1.56.2 in /usr/local/lib/python3.11/dist-packages (from google-api-core->google-generativeai) (1.70.0)\n",
            "Requirement already satisfied: requests<3.0.0,>=2.18.0 in /usr/local/lib/python3.11/dist-packages (from google-api-core->google-generativeai) (2.32.3)\n",
            "Requirement already satisfied: cachetools<6.0,>=2.0.0 in /usr/local/lib/python3.11/dist-packages (from google-auth>=2.15.0->google-generativeai) (5.5.2)\n",
            "Requirement already satisfied: pyasn1-modules>=0.2.1 in /usr/local/lib/python3.11/dist-packages (from google-auth>=2.15.0->google-generativeai) (0.4.2)\n",
            "Requirement already satisfied: rsa<5,>=3.1.4 in /usr/local/lib/python3.11/dist-packages (from google-auth>=2.15.0->google-generativeai) (4.9.1)\n",
            "Requirement already satisfied: httplib2<1.0.0,>=0.19.0 in /usr/local/lib/python3.11/dist-packages (from google-api-python-client->google-generativeai) (0.22.0)\n",
            "Requirement already satisfied: google-auth-httplib2<1.0.0,>=0.2.0 in /usr/local/lib/python3.11/dist-packages (from google-api-python-client->google-generativeai) (0.2.0)\n",
            "Requirement already satisfied: uritemplate<5,>=3.0.1 in /usr/local/lib/python3.11/dist-packages (from google-api-python-client->google-generativeai) (4.2.0)\n",
            "Requirement already satisfied: annotated-types>=0.6.0 in /usr/local/lib/python3.11/dist-packages (from pydantic->google-generativeai) (0.7.0)\n",
            "Requirement already satisfied: pydantic-core==2.33.2 in /usr/local/lib/python3.11/dist-packages (from pydantic->google-generativeai) (2.33.2)\n",
            "Requirement already satisfied: typing-inspection>=0.4.0 in /usr/local/lib/python3.11/dist-packages (from pydantic->google-generativeai) (0.4.1)\n",
            "Requirement already satisfied: grpcio<2.0.0,>=1.33.2 in /usr/local/lib/python3.11/dist-packages (from google-api-core[grpc]!=2.0.*,!=2.1.*,!=2.10.*,!=2.2.*,!=2.3.*,!=2.4.*,!=2.5.*,!=2.6.*,!=2.7.*,!=2.8.*,!=2.9.*,<3.0.0dev,>=1.34.1->google-ai-generativelanguage==0.6.15->google-generativeai) (1.73.1)\n",
            "Requirement already satisfied: grpcio-status<2.0.0,>=1.33.2 in /usr/local/lib/python3.11/dist-packages (from google-api-core[grpc]!=2.0.*,!=2.1.*,!=2.10.*,!=2.2.*,!=2.3.*,!=2.4.*,!=2.5.*,!=2.6.*,!=2.7.*,!=2.8.*,!=2.9.*,<3.0.0dev,>=1.34.1->google-ai-generativelanguage==0.6.15->google-generativeai) (1.71.2)\n",
            "Requirement already satisfied: pyparsing!=3.0.0,!=3.0.1,!=3.0.2,!=3.0.3,<4,>=2.4.2 in /usr/local/lib/python3.11/dist-packages (from httplib2<1.0.0,>=0.19.0->google-api-python-client->google-generativeai) (3.2.3)\n",
            "Requirement already satisfied: pyasn1<0.7.0,>=0.6.1 in /usr/local/lib/python3.11/dist-packages (from pyasn1-modules>=0.2.1->google-auth>=2.15.0->google-generativeai) (0.6.1)\n",
            "Requirement already satisfied: charset-normalizer<4,>=2 in /usr/local/lib/python3.11/dist-packages (from requests<3.0.0,>=2.18.0->google-api-core->google-generativeai) (3.4.2)\n",
            "Requirement already satisfied: idna<4,>=2.5 in /usr/local/lib/python3.11/dist-packages (from requests<3.0.0,>=2.18.0->google-api-core->google-generativeai) (3.10)\n",
            "Requirement already satisfied: urllib3<3,>=1.21.1 in /usr/local/lib/python3.11/dist-packages (from requests<3.0.0,>=2.18.0->google-api-core->google-generativeai) (2.4.0)\n",
            "Requirement already satisfied: certifi>=2017.4.17 in /usr/local/lib/python3.11/dist-packages (from requests<3.0.0,>=2.18.0->google-api-core->google-generativeai) (2025.6.15)\n"
          ]
        }
      ],
      "source": [
        "!pip install google-generativeai"
      ]
    },
    {
      "cell_type": "code",
      "source": [
        "import google.generativeai as genai\n",
        "import os\n",
        "\n",
        "# ========== KONFIGURASI API ==========\n",
        "# Ganti dengan API Key\n",
        "API_KEY = \"API_KEY\"\n",
        "genai.configure(api_key=API_KEY)\n",
        "\n",
        "# ========== PILIH MODEL ==========\n",
        "MODEL_NAME = \"models/gemini-1.5-flash\"\n",
        "model = genai.GenerativeModel(MODEL_NAME)\n",
        "\n",
        "# ========== INISIALISASI CHAT ==========\n",
        "chat = model.start_chat(history=[])\n",
        "\n",
        "# ========== RIWAYAT ==========\n",
        "def tampilkan_riwayat_terakhir(n=3):\n",
        "    try:\n",
        "        with open(\"riwayat.txt\", \"r\", encoding=\"utf-8\") as file:\n",
        "            lines = file.readlines()\n",
        "            print(\"\\n--- Riwayat Terakhir ---\")\n",
        "            print(\"\".join(lines[-n*3:]))\n",
        "    except FileNotFoundError:\n",
        "        print(\"Belum ada riwayat.\")\n",
        "\n",
        "# ========== CHATBOT UTAMA ==========\n",
        "def chatbot():\n",
        "    print(\"📢 Selamat datang di Chatbot Gemini Powerfull!\")\n",
        "    print(\"Ketik 'keluar' untuk berhenti.\\n\")\n",
        "    tampilkan_riwayat_terakhir()\n",
        "\n",
        "    with open(\"riwayat.txt\", \"a\", encoding=\"utf-8\") as file:\n",
        "        while True:\n",
        "            tanya = input(\"\\n🧑 Anda: \")\n",
        "            if tanya.lower() == \"keluar\":\n",
        "                print(\"👋 Chatbot ditutup.\")\n",
        "                break\n",
        "\n",
        "            try:\n",
        "                # Kirim input ke model dengan riwayat chat\n",
        "                respons = chat.send_message(tanya)\n",
        "                jawaban = respons.text.strip()\n",
        "                print(\"🤖 Gemini:\\n\", jawaban)\n",
        "\n",
        "                # Simpan ke file\n",
        "                file.write(f\"Q: {tanya}\\nA: {jawaban}\\n\\n\")\n",
        "            except Exception as e:\n",
        "                print(f\"❌ Terjadi kesalahan: {e}\")"
      ],
      "metadata": {
        "id": "q0zd9eKxYtDM"
      },
      "execution_count": null,
      "outputs": []
    },
    {
      "cell_type": "code",
      "source": [
        "chatbot()"
      ],
      "metadata": {
        "colab": {
          "base_uri": "https://localhost:8080/",
          "height": 801
        },
        "id": "tO5tHZclYpd6",
        "outputId": "0f84f12d-bc35-455f-93f1-274ca7d79372"
      },
      "execution_count": null,
      "outputs": [
        {
          "output_type": "stream",
          "name": "stdout",
          "text": [
            "📢 Selamat datang di Chatbot Gemini Powerfull!\n",
            "Ketik 'keluar' untuk berhenti.\n",
            "\n",
            "\n",
            "--- Riwayat Terakhir ---\n",
            "Setelah meminta maaf, langsung **bantu orang tersebut untuk memungut barang-barangnya.**  Jangan hanya berdiri diam dan menunggu mereka melakukannya sendiri.  Tawarkan bantuan konkrit, seperti, \"Perbolehkan saya membantu Anda mengambilnya.\"\n",
            "\n",
            "Selanjutnya, **periksa barang-barang tersebut untuk memastikan tidak ada yang rusak.** Jika ada kerusakan, tawarkan untuk mengganti atau memperbaiki barang tersebut jika memungkinkan.  Jangan ragu untuk meminta informasi kontak mereka agar Anda bisa menghubungi mereka kemudian jika perlu.\n",
            "\n",
            "Terakhir, jika memungkinkan, **tunjukkan rasa empati dan pengertian**.  Anda mungkin bisa berkata sesuatu seperti, \"Semoga tidak ada yang rusak, saya benar-benar menyesal.\"\n",
            "\n",
            "\n",
            "Yang terpenting adalah menunjukkan rasa tanggung jawab dan kesopanan.  Tindakan cepat dan tulus akan meminimalkan ketidaknyamanan dan potensi konflik.\n",
            "\n",
            "\n",
            "\n",
            "🧑 Anda: Apa yang akan terjadi jika saya terus-menerus tidur terlalu larut dan kurang dari 6 jam setiap malam?\n",
            "🤖 Gemini:\n",
            " Jika Anda terus-menerus tidur terlalu larut dan kurang dari 6 jam setiap malam, Anda akan mengalami berbagai konsekuensi negatif yang memengaruhi kesehatan fisik dan mental Anda.  Berikut beberapa di antaranya:\n",
            "\n",
            "**Kesehatan Fisik:**\n",
            "\n",
            "* **Sistem kekebalan tubuh melemah:** Kurang tidur menghambat produksi sel darah putih yang melawan infeksi, membuat Anda lebih rentan terhadap penyakit.\n",
            "* **Peningkatan risiko penyakit kronis:** Kurang tidur dikaitkan dengan peningkatan risiko penyakit jantung, stroke, diabetes tipe 2, obesitas, dan beberapa jenis kanker.\n",
            "* **Penurunan fungsi kognitif:**  Kemampuan berpikir, mengingat, dan memecahkan masalah akan menurun. Anda mungkin mengalami kesulitan berkonsentrasi dan membuat keputusan.\n",
            "* **Penurunan kinerja fisik:**  Kekurangan tidur membuat Anda merasa lelah, lesu, dan mengurangi kekuatan serta daya tahan fisik.  Risiko cedera juga meningkat.\n",
            "* **Gangguan metabolisme:**  Tidur yang cukup penting untuk mengatur gula darah dan metabolisme lemak. Kurang tidur dapat menyebabkan resistensi insulin dan peningkatan berat badan.\n",
            "* **Masalah pencernaan:**  Kurang tidur dapat mengganggu fungsi pencernaan, menyebabkan sembelit, diare, atau gangguan pencernaan lainnya.\n",
            "* **Gangguan hormon:**  Kurang tidur dapat mengganggu keseimbangan hormon, termasuk hormon yang mengatur nafsu makan, stres, dan reproduksi.\n",
            "* **Peningkatan risiko kecelakaan:**  Kelelahan akibat kurang tidur meningkatkan risiko kecelakaan lalu lintas dan kecelakaan kerja.\n",
            "\n",
            "**Kesehatan Mental:**\n",
            "\n",
            "* **Meningkatnya risiko depresi dan kecemasan:** Kurang tidur dapat memperburuk gejala depresi dan kecemasan atau bahkan memicunya.\n",
            "* **Iritabilitas dan perubahan suasana hati:**  Anda akan lebih mudah marah, frustrasi, dan mengalami perubahan suasana hati yang drastis.\n",
            "* **Kesulitan dalam mengatur emosi:**  Kurang tidur dapat mengganggu kemampuan Anda untuk mengontrol emosi dan respon terhadap stres.\n",
            "* **Penurunan motivasi dan produktivitas:**  Anda akan merasa kurang termotivasi untuk melakukan aktivitas sehari-hari dan produktivitas Anda akan menurun.\n",
            "* **Gangguan tidur lainnya:**  Ironisnya, kurang tidur dapat menyebabkan gangguan tidur lainnya, seperti insomnia.\n",
            "\n",
            "\n",
            "Intinya, kurang tidur kronis memiliki dampak yang sangat merugikan bagi kesehatan secara keseluruhan.  Jika Anda mengalami kesulitan tidur atau selalu merasa lelah, penting untuk berkonsultasi dengan dokter atau spesialis tidur untuk mencari tahu penyebabnya dan mendapatkan perawatan yang tepat.  Mencari bantuan sedini mungkin sangat penting untuk mencegah konsekuensi jangka panjang yang serius.\n",
            "\n",
            "🧑 Anda: keluar\n",
            "👋 Chatbot ditutup.\n"
          ]
        }
      ]
    },
    {
      "cell_type": "markdown",
      "source": [
        "## Refleksi Pribadi  \n",
        "Tantangan utama saya adalah memahami bagaimana struktur permintaan API bekerja dan mengatur API key.  \n",
        "Saya belajar bahwa membaca dokumentasi itu penting dan membuat program yang bisa menyimpan riwayat sangat berguna.  \n",
        "Saya bangga bisa membuat chatbot AI sederhana dengan fitur riwayat dan tampilannya rapi.  "
      ],
      "metadata": {
        "id": "5UnWR_pCgCOr"
      }
    },
    {
      "cell_type": "code",
      "source": [
        "from google.colab import files\n",
        "files.download(\"riwayat.txt\")"
      ],
      "metadata": {
        "colab": {
          "base_uri": "https://localhost:8080/",
          "height": 17
        },
        "id": "4xaDCn3egOSH",
        "outputId": "620f70af-c6ca-4011-842c-12a020bb6a5b"
      },
      "execution_count": null,
      "outputs": [
        {
          "output_type": "display_data",
          "data": {
            "text/plain": [
              "<IPython.core.display.Javascript object>"
            ],
            "application/javascript": [
              "\n",
              "    async function download(id, filename, size) {\n",
              "      if (!google.colab.kernel.accessAllowed) {\n",
              "        return;\n",
              "      }\n",
              "      const div = document.createElement('div');\n",
              "      const label = document.createElement('label');\n",
              "      label.textContent = `Downloading \"${filename}\": `;\n",
              "      div.appendChild(label);\n",
              "      const progress = document.createElement('progress');\n",
              "      progress.max = size;\n",
              "      div.appendChild(progress);\n",
              "      document.body.appendChild(div);\n",
              "\n",
              "      const buffers = [];\n",
              "      let downloaded = 0;\n",
              "\n",
              "      const channel = await google.colab.kernel.comms.open(id);\n",
              "      // Send a message to notify the kernel that we're ready.\n",
              "      channel.send({})\n",
              "\n",
              "      for await (const message of channel.messages) {\n",
              "        // Send a message to notify the kernel that we're ready.\n",
              "        channel.send({})\n",
              "        if (message.buffers) {\n",
              "          for (const buffer of message.buffers) {\n",
              "            buffers.push(buffer);\n",
              "            downloaded += buffer.byteLength;\n",
              "            progress.value = downloaded;\n",
              "          }\n",
              "        }\n",
              "      }\n",
              "      const blob = new Blob(buffers, {type: 'application/binary'});\n",
              "      const a = document.createElement('a');\n",
              "      a.href = window.URL.createObjectURL(blob);\n",
              "      a.download = filename;\n",
              "      div.appendChild(a);\n",
              "      a.click();\n",
              "      div.remove();\n",
              "    }\n",
              "  "
            ]
          },
          "metadata": {}
        },
        {
          "output_type": "display_data",
          "data": {
            "text/plain": [
              "<IPython.core.display.Javascript object>"
            ],
            "application/javascript": [
              "download(\"download_4626b240-9f2e-48e0-9ac3-b5da5319f721\", \"riwayat.txt\", 6562)"
            ]
          },
          "metadata": {}
        }
      ]
    }
  ]
}